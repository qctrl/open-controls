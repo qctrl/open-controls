{
 "cells": [
  {
   "cell_type": "markdown",
   "metadata": {},
   "source": [
    "# Creating a driven control\n",
    "\n",
    "This notebook illustrates how to use Q-CTRL Open Controls to create a driven control.\n",
    "\n",
    "A driven control represents a continuous drive on the transition of a qubit with a tunable detuning. The Open Controls package allows you to generate driven controls that enact dynamically corrected gates. These dynamically corrected gates are able to achieve arbitrary rotations of the Bloch sphere, in a manner that is robust to dephasing and/or control noise. Dynamically corrected gates can be used as drop-in gate replacements to suppress errors in a quantum computation.\n",
    "\n",
    "Q-CTRL Open Controls can be used to create a driven control from a library of well-known control schemes. Once created, it can be printed, plotted, and exported in CSV or JSON format for use on a quantum computer or any of [Q-CTRL's products](https://q-ctrl.com/products/)."
   ]
  },
  {
   "cell_type": "markdown",
   "metadata": {},
   "source": [
    "## Imports"
   ]
  },
  {
   "cell_type": "code",
   "execution_count": 1,
   "metadata": {},
   "outputs": [],
   "source": [
    "import numpy as np\n",
    "import matplotlib.pyplot as plt\n",
    "from qctrlvisualizer import plot_controls\n",
    "from qctrlopencontrols import (\n",
    "    DrivenControl,\n",
    "    new_bb1_control,\n",
    "    new_primitive_control,\n",
    "    new_sk1_control,\n",
    "    new_corpse_control,\n",
    ")"
   ]
  },
  {
   "cell_type": "markdown",
   "metadata": {},
   "source": [
    "## Predefined driven control schemes\n",
    "\n",
    "Q-CTRL Open Controls can create driven controls according to the following dynamically corrected gate protocols:\n",
    "\n",
    "1. [Primitive](https://docs.q-ctrl.com/open-controls/references/qctrl-open-controls/qctrlopencontrols/new_primitive_control.html)\n",
    "2. [BB1](https://docs.q-ctrl.com/open-controls/references/qctrl-open-controls/qctrlopencontrols/new_bb1_control.html)\n",
    "3. [SK1](https://docs.q-ctrl.com/open-controls/references/qctrl-open-controls/qctrlopencontrols/new_sk1_control.html)\n",
    "4. [CORPSE](https://docs.q-ctrl.com/open-controls/references/qctrl-open-controls/qctrlopencontrols/new_corpse_control.html)\n",
    "5. [WAMF1](https://docs.q-ctrl.com/open-controls/references/qctrl-open-controls/qctrlopencontrols/new_wamf1_control.html)\n",
    "6. [SCROFULOUS](https://docs.q-ctrl.com/open-controls/references/qctrl-open-controls/qctrlopencontrols/new_scrofulous_control.html)\n",
    "7. [CORPSE in BB1](https://docs.q-ctrl.com/open-controls/references/qctrl-open-controls/qctrlopencontrols/new_corpse_in_bb1_control.html)\n",
    "8. [CORPSE in SK1](https://docs.q-ctrl.com/open-controls/references/qctrl-open-controls/qctrlopencontrols/new_corpse_in_sk1_control.html)\n",
    "9. [CORPSE in SCROFULOUS](https://docs.q-ctrl.com/open-controls/references/qctrl-open-controls/qctrlopencontrols/new_corpse_in_scrofulous_control.html)\n",
    "\n",
    "See the [documentation](https://docs.q-ctrl.com/open-controls/references/qctrl-open-controls/qctrlopencontrols.html) for details."
   ]
  },
  {
   "cell_type": "markdown",
   "metadata": {},
   "source": [
    "## Creating and printing a driven control\n",
    "\n",
    "A driven control is made of a continuous drive on the qubit transition with a tunable detuning. The continuous drive is described by a piecewise constant function made of a list of segments. Each drive segment has a `rabi_rate` applied at an `azimuthal_angle` for a `duration`, with a `detuning`. The mathematical definition of a driven control is explained in the [documentation](https://docs.q-ctrl.com/open-controls/references/qctrl-open-controls/qctrlopencontrols/DrivenControl.html).\n",
    "\n",
    "Q-CTRL Open Controls can generate a driven control from a library of dynamically corrected gate schemes, mathematically defined in the [documentation](https://docs.q-ctrl.com/open-controls/references/qctrl-open-controls/qctrlopencontrols/DynamicDecouplingSequence.html#). All dynamically corrected gates are derived from three quantities: \n",
    "\n",
    "* `rabi_rotation` the total rotation of the Bloch sphere,\n",
    "* `azimuthal_angle` the angle to the center point of the rotation on the equator,\n",
    "* `detuning_rotations` the detuning rotation around the z-axis."
   ]
  },
  {
   "cell_type": "code",
   "execution_count": 2,
   "metadata": {},
   "outputs": [
    {
     "name": "stdout",
     "output_type": "stream",
     "text": [
      "Primitive X-pi:\n",
      "Rabi Rates = [1.0] x 6.283185307179586\n",
      "Azimuthal Angles = [0.0] x pi\n",
      "Detunings = [0] x 0.0\n",
      "Durations = [1.0] x 0.5\n"
     ]
    }
   ],
   "source": [
    "## Primitive Pi pulse in X\n",
    "prim = new_primitive_control(\n",
    "    rabi_rotation=np.pi,\n",
    "    azimuthal_angle=0,\n",
    "    maximum_rabi_rate=2 * np.pi,\n",
    "    name='Primitive X-pi'\n",
    ")\n",
    "print(prim)"
   ]
  },
  {
   "cell_type": "code",
   "execution_count": 3,
   "metadata": {},
   "outputs": [
    {
     "name": "stdout",
     "output_type": "stream",
     "text": [
      "BB1 X-pi:\n",
      "Rabi Rates = [1.0,1.0,1.0,1.0] x 6.283185307179586\n",
      "Azimuthal Angles = [0.0,0.5804306232551663,1.7412918697654989,0.5804306232551663] x pi\n",
      "Detunings = [0,0,0,0] x 0.0\n",
      "Durations = [0.2,0.2,0.4,0.2] x 2.5\n"
     ]
    }
   ],
   "source": [
    "## BB1 Pi pulse in X (implements the same effective operation as above)\n",
    "bb1_x = new_bb1_control(\n",
    "    rabi_rotation=np.pi,\n",
    "    azimuthal_angle=0,\n",
    "    maximum_rabi_rate=2 * np.pi,\n",
    "    name='BB1 X-pi'\n",
    ")\n",
    "print(bb1_x)"
   ]
  },
  {
   "cell_type": "code",
   "execution_count": 4,
   "metadata": {},
   "outputs": [
    {
     "name": "stdout",
     "output_type": "stream",
     "text": [
      "BB1 Y-pi/2:\n",
      "Rabi Rates = [1.0,1.0,1.0,1.0] x 6.283185307179586\n",
      "Azimuthal Angles = [0.5,1.0398930876747683,2.1196792630243046,1.0398930876747683] x pi\n",
      "Detunings = [0,0,0,0] x 0.0\n",
      "Durations = [0.1111111111111111,0.2222222222222222,0.4444444444444444,0.2222222222222222] x 2.25\n"
     ]
    }
   ],
   "source": [
    "## BB1 Pi/2 pulse in Y\n",
    "bb1_y = new_bb1_control(\n",
    "    rabi_rotation=np.pi/2,\n",
    "    azimuthal_angle=np.pi/2,\n",
    "    maximum_rabi_rate=2 * np.pi,\n",
    "    name='BB1 Y-pi/2'\n",
    ")\n",
    "print(bb1_y)"
   ]
  },
  {
   "cell_type": "code",
   "execution_count": 5,
   "metadata": {},
   "outputs": [
    {
     "name": "stdout",
     "output_type": "stream",
     "text": [
      "SK1 Y-pi/2:\n",
      "Rabi Rates = [1.0,1.0,1.0] x 6.283185307179586\n",
      "Azimuthal Angles = [0.5,-0.03989308767476825,1.0398930876747683] x pi\n",
      "Detunings = [0,0,0] x 0.0\n",
      "Durations = [0.1111111111111111,0.4444444444444444,0.4444444444444444] x 2.25\n"
     ]
    }
   ],
   "source": [
    "## SK1 Pi/2 pulse in Y\n",
    "sk1 = new_sk1_control(\n",
    "    rabi_rotation=np.pi/2,\n",
    "    azimuthal_angle=np.pi/2,\n",
    "    maximum_rabi_rate=2 * np.pi,\n",
    "    name='SK1 Y-pi/2'\n",
    ")\n",
    "print(sk1)"
   ]
  },
  {
   "cell_type": "code",
   "execution_count": 6,
   "metadata": {},
   "outputs": [
    {
     "name": "stdout",
     "output_type": "stream",
     "text": [
      "CORPSE X-pi/2:\n",
      "Rabi Rates = [1.0,1.0,1.0] x 6.283185307179586\n",
      "Azimuthal Angles = [0.0,1.0,0.0] x pi\n",
      "Detunings = [0,0,0] x 0.0\n",
      "Durations = [0.5284727158825664,0.43811717424831853,0.033410109869114954] x 2.0199465438373845\n"
     ]
    }
   ],
   "source": [
    "## CORPSE Pi/2 pulse in X\n",
    "corpse = new_corpse_control(\n",
    "    rabi_rotation=np.pi/2,\n",
    "    azimuthal_angle=0,\n",
    "    maximum_rabi_rate=2 * np.pi,\n",
    "    name='CORPSE X-pi/2'\n",
    ")\n",
    "print(corpse)"
   ]
  },
  {
   "cell_type": "markdown",
   "metadata": {},
   "source": [
    "### Plotting a driven control\n",
    "\n",
    "Once created, Q-CTRL Open Controls provides the method `export` to create a set of formatted arrays ready to be immediately plotted with Matplotlib and the `plot_controls` method of the Q-CTRL Python Visualizer package. We use the `BB1` as a driven control to generate plots of the `rabi_rates`, `azimuthal_angles` and `detunings`."
   ]
  },
  {
   "cell_type": "code",
   "execution_count": 7,
   "metadata": {},
   "outputs": [
    {
     "data": {
      "image/png": "[encoded data removed]",
      "text/plain": [
       "<Figure size 504x432 with 3 Axes>"
      ]
     },
     "metadata": {
      "needs_background": "light"
     },
     "output_type": "display_data"
    }
   ],
   "source": [
    "formatted_plot_data = bb1_x.export(coordinates='cylindrical', dimensionless_rabi_rate=False)\n",
    "figure = plt.figure()\n",
    "plot_controls(figure, formatted_plot_data)"
   ]
  },
  {
   "cell_type": "markdown",
   "metadata": {},
   "source": [
    "### Exporting a Driven Control\n",
    "\n",
    "Q-CTRL Open Controls enables exporting driven controls in CSV or JSON format.\n",
    "\n",
    "Q-CTRL Open Controls can export a driven control in either `cartesian` or `cylindrical` coordinates. For details, consult the [documentation](https://docs.q-ctrl.com/open-controls/references/qctrl-open-controls/qctrlopencontrols/DrivenControl.export_to_file.html).\n",
    "\n",
    "In the example below, we chose the `bb1_x` control (created above) for exporting to a CSV file."
   ]
  },
  {
   "cell_type": "code",
   "execution_count": 8,
   "metadata": {},
   "outputs": [],
   "source": [
    "file_type='CSV'\n",
    "filename='example_driven_control.csv'\n",
    "\n",
    "bb1_x.export_to_file(\n",
    "    filename=filename, \n",
    "    file_type=file_type,\n",
    "    coordinates='cartesian')"
   ]
  },
  {
   "cell_type": "code",
   "execution_count": 9,
   "metadata": {},
   "outputs": [
    {
     "name": "stdout",
     "output_type": "stream",
     "text": [
      "amplitude_x,amplitude_y,detuning,duration,maximum_rabi_rate\n",
      "\n",
      "1.0,0.0,0.0,0.5,6.283185307179586\n",
      "\n",
      "-0.2500000000000001,0.9682458365518541,0.0,0.5,6.283185307179586\n",
      "\n",
      "0.6875000000000002,-0.7261843774138904,0.0,1.0,6.283185307179586\n",
      "\n",
      "-0.2500000000000001,0.9682458365518541,0.0,0.5,6.283185307179586\n"
     ]
    }
   ],
   "source": [
    "## Reload the file and check its content to better understand the format\n",
    "with open(filename, 'rt') as handle:\n",
    "    file_content = handle.readlines()\n",
    "for line in file_content:\n",
    "    print(line)"
   ]
  },
  {
   "cell_type": "markdown",
   "metadata": {},
   "source": [
    "## Custom definition of a driven control\n",
    "\n",
    "An arbitrary `DrivenControl` can be defined defined using arrays of `rabi_rotations`, `azimuthal_angles`, `detuning_rotations` and `durations`."
   ]
  },
  {
   "cell_type": "code",
   "execution_count": 10,
   "metadata": {},
   "outputs": [
    {
     "data": {
      "image/png": "[encoded data removed]",
      "text/plain": [
       "<Figure size 504x432 with 3 Axes>"
      ]
     },
     "metadata": {
      "needs_background": "light"
     },
     "output_type": "display_data"
    }
   ],
   "source": [
    "_rabi_rates = [np.pi/2,np.pi/2,np.pi,np.pi]\n",
    "_azimuthal_angles = [0., -np.pi/2, 0., np.pi/2]\n",
    "_detunings = [np.pi/2, 0, -np.pi/2, 0]\n",
    "_durations = [0.5, 1, 2, 0.5]\n",
    "_name = 'Custon Driven Control'\n",
    "\n",
    "custom_driven_control = DrivenControl(rabi_rates=_rabi_rates, \n",
    "                                      azimuthal_angles=_azimuthal_angles,\n",
    "                                      detunings=_detunings,\n",
    "                                      durations=_durations,\n",
    "                                      name=_name)\n",
    "\n",
    "## let us plot and verify\n",
    "formatted_plot_data = custom_driven_control.export(coordinates='cylindrical', dimensionless_rabi_rate=False)\n",
    "figure = plt.figure()\n",
    "plot_controls(figure, formatted_plot_data)"
   ]
  }
 ],
 "metadata": {
  "kernelspec": {
   "display_name": "Python 3",
   "language": "python",
   "name": "python3"
  },
  "language_info": {
   "codemirror_mode": {
    "name": "ipython",
    "version": 3
   },
   "file_extension": ".py",
   "mimetype": "text/x-python",
   "name": "python",
   "nbconvert_exporter": "python",
   "pygments_lexer": "ipython3",
   "version": "3.7.10"
  },
  "toc": {
   "base_numbering": 1,
   "nav_menu": {},
   "number_sections": true,
   "sideBar": true,
   "skip_h1_title": true,
   "title_cell": "Table of Contents",
   "title_sidebar": "Contents",
   "toc_cell": false,
   "toc_position": {},
   "toc_section_display": true,
   "toc_window_display": false
  }
 },
 "nbformat": 4,
 "nbformat_minor": 4
}

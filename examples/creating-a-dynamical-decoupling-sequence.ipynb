{
 "cells": [
  {
   "cell_type": "markdown",
   "metadata": {},
   "source": [
    "# Creating a dynamical decoupling sequence\n",
    "\n",
    "This notebook illustrates how to use Q-CTRL Open Controls to create [dynamical decoupling sequences](https://en.wikipedia.org/wiki/Dynamical_decoupling). \n",
    "\n",
    "Dynamical decoupling is the use of fast pulses, often treated as instant ideal unitary operations, on a qubit to decouple it from its environment and improve its coherence time. The train of pulses is called a sequence, hence \"dynamical decoupling sequence\" (DDS). DDSs can be used to increase the coherence time of a qubit or they can be used as part of a characterization process to identify coherence time and/or noise spectra.\n",
    "\n",
    "Q-CTRL Open Controls can be used to create a DDS from a library of well-known dynamical decoupling schemes. Once created, the DDS can be printed, plotted, and exported in CSV or JSON format for use on a quantum computer or any of [Q-CTRL's products](https://q-ctrl.com/products/)."
   ]
  },
  {
   "cell_type": "markdown",
   "metadata": {},
   "source": [
    "## Imports"
   ]
  },
  {
   "cell_type": "code",
   "execution_count": 1,
   "metadata": {},
   "outputs": [],
   "source": [
    "import numpy as np\n",
    "import matplotlib.pyplot as plt\n",
    "from qctrlopencontrols import (new_spin_echo_sequence,\n",
    "                               new_carr_purcell_sequence,\n",
    "                               new_walsh_sequence,\n",
    "                               new_ramsey_sequence,\n",
    "                               new_x_concatenated_sequence,\n",
    "                               new_quadratic_sequence,\n",
    "                               DynamicDecouplingSequence\n",
    "                              )\n",
    "from qctrlvisualizer import plot_sequences"
   ]
  },
  {
   "cell_type": "markdown",
   "metadata": {},
   "source": [
    "## Predefined dynamical decoupling Schemes\n",
    "\n",
    "Q-CTRL Open Controls can create DDSs according to the following protocols:\n",
    "\n",
    "1. `Ramsey`\n",
    "2. `spin echo`\n",
    "3. `Carr-Purcell`\n",
    "4. `Carr-Purcell-Meiboom-Gill`\n",
    "5. `Uhrig`\n",
    "6. `periodic`\n",
    "7. `Walsh single-axis`\n",
    "8. `quadratic`\n",
    "9. `X concatenated`\n",
    "10. `XY concatenated`\n",
    "\n",
    "See the [documentation](https://docs.q-ctrl.com/open-controls/references/qctrl-open-controls/qctrlopencontrols.html) for details."
   ]
  },
  {
   "cell_type": "markdown",
   "metadata": {},
   "source": [
    "## Creating and printing a DDS\n",
    "\n",
    "A DDS is defined as a set of instant unitary operations, each defined by a `rabi_rotation`, `azimuthal_angle`, `detuning_angle`, and `offset` (giving the time at which the operation is applied). The mathematical definition of a sequence is explained in the [documentation](https://docs.q-ctrl.com/open-controls/references/qctrl-open-controls/qctrlopencontrols/DynamicDecouplingSequence.html#qctrlopencontrols.DynamicDecouplingSequence).\n",
    "\n",
    "Q-CTRL Open controls provides a set of functions to generate commonly used DDSs. For each sequence, the detailed mathematical definition can be found in the [documentation](https://docs.q-ctrl.com/open-controls/references/qctrl-open-controls/qctrlopencontrols.html#qctrlopencontrols).\n",
    "Below we give a few examples of generating DDSs."
   ]
  },
  {
   "cell_type": "code",
   "execution_count": 2,
   "metadata": {},
   "outputs": [
    {
     "name": "stdout",
     "output_type": "stream",
     "text": [
      "SE DDS:\n",
      "Duration = 1e-05\n",
      "Offsets = [0.5] x 1e-05\n",
      "Rabi Rotations = [1.0] x pi\n",
      "Azimuthal Angles = [0.0] x pi\n",
      "Detuning Rotations = [0.0] x pi\n"
     ]
    }
   ],
   "source": [
    "## Spin echo sequence\n",
    "se_dds = new_spin_echo_sequence(duration=10e-6, name='SE DDS')\n",
    "print(se_dds)"
   ]
  },
  {
   "cell_type": "code",
   "execution_count": 3,
   "metadata": {},
   "outputs": [
    {
     "name": "stdout",
     "output_type": "stream",
     "text": [
      "CP DDS:\n",
      "Duration = 1e-05\n",
      "Offsets = [0.125, 0.375, 0.625, 0.875] x 1e-05\n",
      "Rabi Rotations = [1.0, 1.0, 1.0, 1.0] x pi\n",
      "Azimuthal Angles = [0.0, 0.0, 0.0, 0.0] x pi\n",
      "Detuning Rotations = [0.0, 0.0, 0.0, 0.0] x pi\n"
     ]
    }
   ],
   "source": [
    "## Carr-Purcell sequence\n",
    "cp_dds = new_carr_purcell_sequence( \n",
    "    duration=10e-6, \n",
    "    offset_count = 4.,\n",
    "    name='CP DDS')\n",
    "print(cp_dds)"
   ]
  },
  {
   "cell_type": "code",
   "execution_count": 4,
   "metadata": {},
   "outputs": [
    {
     "name": "stdout",
     "output_type": "stream",
     "text": [
      "Walsh DDS:\n",
      "Duration = 1e-05\n",
      "Offsets = [0.125, 0.25, 0.375, 0.5, 0.625, 0.75, 0.875] x 1e-05\n",
      "Rabi Rotations = [1.0, 1.0, 1.0, 1.0, 1.0, 1.0, 1.0] x pi\n",
      "Azimuthal Angles = [0.0, 0.0, 0.0, 0.0, 0.0, 0.0, 0.0] x pi\n",
      "Detuning Rotations = [0.0, 0.0, 0.0, 0.0, 0.0, 0.0, 0.0] x pi\n"
     ]
    }
   ],
   "source": [
    "## Walsh single-axis\n",
    "walsh_dds = new_walsh_sequence(\n",
    "    duration=10e-6, \n",
    "    paley_order = 4.,\n",
    "    name='Walsh DDS')\n",
    "print(walsh_dds)"
   ]
  },
  {
   "cell_type": "code",
   "execution_count": 5,
   "metadata": {},
   "outputs": [
    {
     "name": "stdout",
     "output_type": "stream",
     "text": [
      "Quadratic DDS:\n",
      "Duration = 1e-05\n",
      "Offsets = [0.06249999999999998, 0.18749999999999994, 0.24999999999999994, 0.37499999999999994, 0.6249999999999999, 0.7499999999999999, 0.8124999999999999, 0.9375] x 1e-05\n",
      "Rabi Rotations = [0.0, 0.0, 1.0, 0.0, 0.0, 1.0, 0.0, 0.0] x pi\n",
      "Azimuthal Angles = [0.0, 0.0, 0.0, 0.0, 0.0, 0.0, 0.0, 0.0] x pi\n",
      "Detuning Rotations = [1.0, 1.0, 0.0, 1.0, 1.0, 0.0, 1.0, 1.0] x pi\n"
     ]
    }
   ],
   "source": [
    "## Quadratic sequence\n",
    "quadratic_dds = new_quadratic_sequence(\n",
    "    duration=10e-6, \n",
    "    inner_offset_count = 2,\n",
    "    outer_offset_count = 2,\n",
    "    name='Quadratic DDS')\n",
    "print(quadratic_dds)"
   ]
  },
  {
   "cell_type": "code",
   "execution_count": 6,
   "metadata": {},
   "outputs": [
    {
     "name": "stdout",
     "output_type": "stream",
     "text": [
      "XC DDS:\n",
      "Duration = 1e-05\n",
      "Offsets = [0.25, 0.75] x 1e-05\n",
      "Rabi Rotations = [1.0, 1.0] x pi\n",
      "Azimuthal Angles = [0.0, 0.0] x pi\n",
      "Detuning Rotations = [0.0, 0.0] x pi\n"
     ]
    }
   ],
   "source": [
    "## X concatenated sequence\n",
    "## 'XY concatenated' scheme uses the same keyword\n",
    "xc_dds = new_x_concatenated_sequence(\n",
    "    duration=10e-6, \n",
    "    concatenation_order = 2,\n",
    "    name='XC DDS')\n",
    "print(xc_dds)"
   ]
  },
  {
   "cell_type": "code",
   "execution_count": 7,
   "metadata": {},
   "outputs": [
    {
     "name": "stdout",
     "output_type": "stream",
     "text": [
      "Ramsey DDS:\n",
      "Duration = 1e-06\n",
      "Offsets = [] x 1e-06\n",
      "Rabi Rotations = [] x pi\n",
      "Azimuthal Angles = [] x pi\n",
      "Detuning Rotations = [] x pi\n"
     ]
    }
   ],
   "source": [
    "## Ramsay DDS\n",
    "ramsey_dds = new_ramsey_sequence(duration=1e-6, name='Ramsey DDS')\n",
    "print(ramsey_dds)"
   ]
  },
  {
   "cell_type": "markdown",
   "metadata": {},
   "source": [
    "### Plotting a DDS\n",
    "\n",
    "Once created, Q-CTRL Open Controls provides the method `export` to create a set of formatted arrays ready to be immediately plotted with Matplotlib and the `plot_sequences` method of the Q-CTRL Python Visualizer package. We use the `quadratic_dds` as a sample sequence to generate plots of the `rabi_rotations`, `azimuthal_angles` and `detuning_rotations`."
   ]
  },
  {
   "cell_type": "code",
   "execution_count": 8,
   "metadata": {},
   "outputs": [
    {
     "data": {
      "image/png": "[encoded data removed]",
      "text/plain": [
       "<Figure size 648x432 with 3 Axes>"
      ]
     },
     "metadata": {
      "needs_background": "light"
     },
     "output_type": "display_data"
    }
   ],
   "source": [
    "formatted_plot_data = quadratic_dds.export()\n",
    "figure = plt.figure()\n",
    "plot_sequences(figure, formatted_plot_data)"
   ]
  },
  {
   "cell_type": "markdown",
   "metadata": {},
   "source": [
    "### Exporting the DDS\n",
    "\n",
    "Q-CTRL Open Controls enables exporting DDS in CSV or JSON format.\n",
    "\n",
    "An ideal DDS is defined as a sequence of instantaneously-applied pulses, which correspond to instantaneous rotations of the Bloch sphere. However, in reality, the rate of rotation is limited by the `maximum_rabi_rate` and/or `maximum_detuning_rate` for a given pulse. Due to this limiting factor, the target rotation is implemented over a control segment with finite duration. Q-CTRL Open Controls converts a `DynamicDecouplingSequence` into a `DrivenControl` before exporting the resulting `DrivenControl`. This conversion requires the `maximum_rabi_rate` and `maximum_detuning_rate` to be specified and raises an error if the conversion is not successful (e.g. if control segments overlap due to a low `maximum_rabi_rate` or `maximum_detuning_rate`).\n",
    "\n",
    "Q-CTRL Open Controls can export a sequence in either `cartesian` or `cylindrical` coordinates. For details, consult the [documentation](https://docs.q-ctrl.com/open-controls/references/qctrl-open-controls/qctrlopencontrols/DrivenControl.export_to_file.html).\n",
    "\n",
    "In the example below, we chose the `quadratic_dds` (created above) for exporting to a CSV file."
   ]
  },
  {
   "cell_type": "code",
   "execution_count": 9,
   "metadata": {},
   "outputs": [],
   "source": [
    "file_type='CSV'\n",
    "filename='example_sequence.csv'\n",
    "\n",
    "quadratic_dds.export_to_file(\n",
    "    filename=filename, \n",
    "    file_type=file_type,\n",
    "    maximum_rabi_rate=2e6*np.pi,\n",
    "    maximum_detuning_rate=4e6*np.pi)"
   ]
  },
  {
   "cell_type": "code",
   "execution_count": 10,
   "metadata": {},
   "outputs": [
    {
     "name": "stdout",
     "output_type": "stream",
     "text": [
      "amplitude_x,amplitude_y,detuning,duration,maximum_rabi_rate\n",
      "\n",
      "0.0,0.0,0.0,4.999999999999999e-07,6283185.3071795935\n",
      "\n",
      "0.0,0.0,12566370.614359176,2.4999999999999994e-07,6283185.3071795935\n",
      "\n",
      "0.0,0.0,0.0,9.999999999999997e-07,6283185.3071795935\n",
      "\n",
      "0.0,0.0,12566370.614359176,2.4999999999999994e-07,6283185.3071795935\n",
      "\n",
      "0.0,0.0,0.0,2.5000000000000015e-07,6283185.3071795935\n",
      "\n",
      "0.9999999999999982,0.0,0.0,5.000000000000003e-07,6283185.3071795935\n",
      "\n",
      "0.0,0.0,0.0,8.749999999999997e-07,6283185.3071795935\n",
      "\n",
      "0.0,0.0,12566370.614359187,2.499999999999997e-07,6283185.3071795935\n",
      "\n",
      "0.0,0.0,0.0,2.2500000000000005e-06,6283185.3071795935\n",
      "\n",
      "0.0,0.0,12566370.614359207,2.499999999999993e-07,6283185.3071795935\n",
      "\n",
      "0.0,0.0,0.0,8.750000000000001e-07,6283185.3071795935\n",
      "\n",
      "1.0,0.0,0.0,4.999999999999994e-07,6283185.3071795935\n",
      "\n",
      "0.0,0.0,0.0,2.50000000000001e-07,6283185.3071795935\n",
      "\n",
      "0.0,0.0,12566370.614359207,2.499999999999993e-07,6283185.3071795935\n",
      "\n",
      "0.0,0.0,0.0,1.0000000000000023e-06,6283185.3071795935\n",
      "\n",
      "0.0,0.0,12566370.614359207,2.499999999999993e-07,6283185.3071795935\n",
      "\n",
      "0.0,0.0,0.0,5.000000000000003e-07,6283185.3071795935\n"
     ]
    }
   ],
   "source": [
    "## Reload the file and check its content to better understand the format\n",
    "with open(filename, 'rt') as handle:\n",
    "    file_content = handle.readlines()\n",
    "for line in file_content:\n",
    "    print(line)"
   ]
  },
  {
   "cell_type": "markdown",
   "metadata": {},
   "source": [
    "## Custom definition of a DDS\n",
    "\n",
    "An arbitrary `DynamicDecouplingSequence` can be created by providing a `duration` along with arrays for the `rabi_rotations`, `azimuthal_angles`, `detuning_rotations` and `offsets`."
   ]
  },
  {
   "cell_type": "code",
   "execution_count": 11,
   "metadata": {},
   "outputs": [
    {
     "data": {
      "image/png": "[encoded data removed]",
      "text/plain": [
       "<Figure size 648x432 with 3 Axes>"
      ]
     },
     "metadata": {
      "needs_background": "light"
     },
     "output_type": "display_data"
    }
   ],
   "source": [
    "_duration = 1.50\n",
    "_rabi_rotations = [np.pi, np.pi, 0., np.pi, np.pi]\n",
    "_azimuthal_angles = [np.pi/2, 0., 0., 0., np.pi/2]\n",
    "_detuning_rotations = [0., 0., np.pi, 0., 0.]\n",
    "_offsets = [0.25, 0.50, 0.75, 1.00, 1.25]\n",
    "_name = 'Custom DDS'\n",
    "\n",
    "custom_dds = DynamicDecouplingSequence(duration=_duration,\n",
    "                                        rabi_rotations=_rabi_rotations,\n",
    "                                        azimuthal_angles=_azimuthal_angles,\n",
    "                                        detuning_rotations=_detuning_rotations,\n",
    "                                        offsets=_offsets,\n",
    "                                        name=_name)\n",
    "\n",
    "formatted_plot_data = custom_dds.export()\n",
    "figure = plt.figure()\n",
    "plot_sequences(figure, formatted_plot_data)"
   ]
  }
 ],
 "metadata": {
  "kernelspec": {
   "display_name": "Python 3",
   "language": "python",
   "name": "python3"
  },
  "language_info": {
   "codemirror_mode": {
    "name": "ipython",
    "version": 3
   },
   "file_extension": ".py",
   "mimetype": "text/x-python",
   "name": "python",
   "nbconvert_exporter": "python",
   "pygments_lexer": "ipython3",
   "version": "3.7.10"
  },
  "toc": {
   "base_numbering": 1,
   "nav_menu": {},
   "number_sections": true,
   "sideBar": true,
   "skip_h1_title": true,
   "title_cell": "Table of Contents",
   "title_sidebar": "Contents",
   "toc_cell": false,
   "toc_position": {},
   "toc_section_display": true,
   "toc_window_display": false
  }
 },
 "nbformat": 4,
 "nbformat_minor": 4
}
